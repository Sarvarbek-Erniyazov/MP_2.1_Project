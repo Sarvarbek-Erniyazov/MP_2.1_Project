version https://git-lfs.github.com/spec/v1
oid sha256:c9940015661b2d7989592cc1116575775ef806de52ef755eb4900197d746df66
size 2432
