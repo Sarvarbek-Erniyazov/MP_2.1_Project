version https://git-lfs.github.com/spec/v1
oid sha256:694a7615fb59ad57cda1f94010e6489796b23fafbd5d2695fa01b4272227fd7f
size 33345
