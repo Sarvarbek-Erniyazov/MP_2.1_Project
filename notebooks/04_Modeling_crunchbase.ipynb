version https://git-lfs.github.com/spec/v1
oid sha256:ca90de9ebed161f94d4582b9ee8cec1906b4bac9da09f9edcc4523e1cb90d860
size 25986
