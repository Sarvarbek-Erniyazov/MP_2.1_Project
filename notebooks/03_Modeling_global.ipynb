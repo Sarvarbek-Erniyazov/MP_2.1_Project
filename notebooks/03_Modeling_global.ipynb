version https://git-lfs.github.com/spec/v1
oid sha256:293fd3d67e1b26d07d73f73e63a0aa9960b5cc092509847db153f3bb534e2b80
size 32284
