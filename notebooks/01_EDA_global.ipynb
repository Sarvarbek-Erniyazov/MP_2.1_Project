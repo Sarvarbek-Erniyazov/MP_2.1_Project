version https://git-lfs.github.com/spec/v1
oid sha256:cc9d383d52568217a9ba675a5268478577e38e7210dc122aba36b3a056665638
size 108783
