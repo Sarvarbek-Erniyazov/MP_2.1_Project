version https://git-lfs.github.com/spec/v1
oid sha256:103676316d374bbdad7916753c7d9c50ea77f542ab46ea6b9db1ab7b11fceba9
size 108634
